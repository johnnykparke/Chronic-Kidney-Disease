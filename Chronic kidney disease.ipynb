{
 "cells": [
  {
   "cell_type": "markdown",
   "metadata": {},
   "source": [
    "# Importing necessary libraries"
   ]
  },
  {
   "cell_type": "code",
   "execution_count": 42,
   "metadata": {},
   "outputs": [],
   "source": [
    "%matplotlib inline\n",
    "import pandas as pd\n",
    "import numpy as np"
   ]
  },
  {
   "cell_type": "markdown",
   "metadata": {},
   "source": [
    "# Importing dataset"
   ]
  },
  {
   "cell_type": "code",
   "execution_count": 43,
   "metadata": {},
   "outputs": [],
   "source": [
    "KD=pd.read_csv('datasets/kidney_disease.csv')"
   ]
  },
  {
   "cell_type": "code",
   "execution_count": 44,
   "metadata": {},
   "outputs": [
    {
     "name": "stdout",
     "output_type": "stream",
     "text": [
      "   id   age    bp     sg   al   su     rbc        pc         pcc          ba  \\\n",
      "0   0  48.0  80.0  1.020  1.0  0.0     NaN    normal  notpresent  notpresent   \n",
      "1   1   7.0  50.0  1.020  4.0  0.0     NaN    normal  notpresent  notpresent   \n",
      "2   2  62.0  80.0  1.010  2.0  3.0  normal    normal  notpresent  notpresent   \n",
      "3   3  48.0  70.0  1.005  4.0  0.0  normal  abnormal     present  notpresent   \n",
      "4   4  51.0  80.0  1.010  2.0  0.0  normal    normal  notpresent  notpresent   \n",
      "\n",
      "       ...        pcv    wc   rc  htn   dm  cad appet   pe  ane classification  \n",
      "0      ...         44  7800  5.2  yes  yes   no  good   no   no            ckd  \n",
      "1      ...         38  6000  NaN   no   no   no  good   no   no            ckd  \n",
      "2      ...         31  7500  NaN   no  yes   no  poor   no  yes            ckd  \n",
      "3      ...         32  6700  3.9  yes   no   no  poor  yes  yes            ckd  \n",
      "4      ...         35  7300  4.6   no   no   no  good   no   no            ckd  \n",
      "\n",
      "[5 rows x 26 columns]\n"
     ]
    }
   ],
   "source": [
    "print(KD.head())"
   ]
  },
  {
   "cell_type": "code",
   "execution_count": 45,
   "metadata": {},
   "outputs": [
    {
     "name": "stdout",
     "output_type": "stream",
     "text": [
      "<class 'pandas.core.frame.DataFrame'>\n",
      "RangeIndex: 400 entries, 0 to 399\n",
      "Data columns (total 26 columns):\n",
      "id                400 non-null int64\n",
      "age               391 non-null float64\n",
      "bp                388 non-null float64\n",
      "sg                353 non-null float64\n",
      "al                354 non-null float64\n",
      "su                351 non-null float64\n",
      "rbc               248 non-null object\n",
      "pc                335 non-null object\n",
      "pcc               396 non-null object\n",
      "ba                396 non-null object\n",
      "bgr               356 non-null float64\n",
      "bu                381 non-null float64\n",
      "sc                383 non-null float64\n",
      "sod               313 non-null float64\n",
      "pot               312 non-null float64\n",
      "hemo              348 non-null float64\n",
      "pcv               330 non-null object\n",
      "wc                295 non-null object\n",
      "rc                270 non-null object\n",
      "htn               398 non-null object\n",
      "dm                398 non-null object\n",
      "cad               398 non-null object\n",
      "appet             399 non-null object\n",
      "pe                399 non-null object\n",
      "ane               399 non-null object\n",
      "classification    400 non-null object\n",
      "dtypes: float64(11), int64(1), object(14)\n",
      "memory usage: 81.3+ KB\n",
      "None\n"
     ]
    }
   ],
   "source": [
    "print(KD.info())"
   ]
  },
  {
   "cell_type": "code",
   "execution_count": 46,
   "metadata": {},
   "outputs": [
    {
     "name": "stdout",
     "output_type": "stream",
     "text": [
      "id                  0\n",
      "age                 9\n",
      "bp                 12\n",
      "sg                 47\n",
      "al                 46\n",
      "su                 49\n",
      "rbc               152\n",
      "pc                 65\n",
      "pcc                 4\n",
      "ba                  4\n",
      "bgr                44\n",
      "bu                 19\n",
      "sc                 17\n",
      "sod                87\n",
      "pot                88\n",
      "hemo               52\n",
      "pcv                70\n",
      "wc                105\n",
      "rc                130\n",
      "htn                 2\n",
      "dm                  2\n",
      "cad                 2\n",
      "appet               1\n",
      "pe                  1\n",
      "ane                 1\n",
      "classification      0\n",
      "dtype: int64\n"
     ]
    }
   ],
   "source": [
    "print(KD.isnull().sum())"
   ]
  },
  {
   "cell_type": "markdown",
   "metadata": {},
   "source": [
    " This dataset has 400 rows and 26 columns (25 feature variable and 1 target variable).We have many columns which have many missing values."
   ]
  },
  {
   "cell_type": "markdown",
   "metadata": {},
   "source": [
    "# Handling Missing Values(Numerical column)"
   ]
  },
  {
   "cell_type": "markdown",
   "metadata": {},
   "source": [
    "Handling missing values in numerical columns. Missing values in  numerical columns can be substituted with total mean."
   ]
  },
  {
   "cell_type": "code",
   "execution_count": 47,
   "metadata": {},
   "outputs": [],
   "source": [
    "KD['age']=KD['age'].fillna(np.mean(KD['age']))"
   ]
  },
  {
   "cell_type": "code",
   "execution_count": 48,
   "metadata": {},
   "outputs": [],
   "source": [
    "KD['bp']=KD['bp'].fillna(np.mean(KD['bp']))"
   ]
  },
  {
   "cell_type": "code",
   "execution_count": 49,
   "metadata": {},
   "outputs": [],
   "source": [
    "KD['sg']=KD['sg'].fillna(np.mean(KD['sg']))"
   ]
  },
  {
   "cell_type": "code",
   "execution_count": 50,
   "metadata": {},
   "outputs": [],
   "source": [
    "KD['al']=KD['al'].fillna(np.mean(KD['al']))"
   ]
  },
  {
   "cell_type": "code",
   "execution_count": 51,
   "metadata": {},
   "outputs": [],
   "source": [
    "KD['su']=KD['su'].fillna(np.mean(KD['su']))"
   ]
  },
  {
   "cell_type": "code",
   "execution_count": 52,
   "metadata": {},
   "outputs": [],
   "source": [
    "KD['bgr']=KD['bgr'].fillna(np.mean(KD['bgr']))"
   ]
  },
  {
   "cell_type": "code",
   "execution_count": 53,
   "metadata": {},
   "outputs": [],
   "source": [
    "KD['bu']=KD['bu'].fillna(np.mean(KD['bu']))"
   ]
  },
  {
   "cell_type": "code",
   "execution_count": 54,
   "metadata": {},
   "outputs": [],
   "source": [
    "KD['sc']=KD['sc'].fillna(np.mean(KD['sc']))"
   ]
  },
  {
   "cell_type": "code",
   "execution_count": 55,
   "metadata": {},
   "outputs": [],
   "source": [
    "KD['sod']=KD['sod'].fillna(np.mean(KD['sod']))"
   ]
  },
  {
   "cell_type": "code",
   "execution_count": 56,
   "metadata": {},
   "outputs": [],
   "source": [
    "KD['pot']=KD['pot'].fillna(np.mean(KD['pot']))"
   ]
  },
  {
   "cell_type": "code",
   "execution_count": 57,
   "metadata": {},
   "outputs": [],
   "source": [
    "KD['hemo']=KD['hemo'].fillna(np.mean(KD['su']))"
   ]
  },
  {
   "cell_type": "code",
   "execution_count": 58,
   "metadata": {},
   "outputs": [
    {
     "name": "stdout",
     "output_type": "stream",
     "text": [
      "<class 'pandas.core.frame.DataFrame'>\n",
      "RangeIndex: 400 entries, 0 to 399\n",
      "Data columns (total 26 columns):\n",
      "id                400 non-null int64\n",
      "age               400 non-null float64\n",
      "bp                400 non-null float64\n",
      "sg                400 non-null float64\n",
      "al                400 non-null float64\n",
      "su                400 non-null float64\n",
      "rbc               248 non-null object\n",
      "pc                335 non-null object\n",
      "pcc               396 non-null object\n",
      "ba                396 non-null object\n",
      "bgr               400 non-null float64\n",
      "bu                400 non-null float64\n",
      "sc                400 non-null float64\n",
      "sod               400 non-null float64\n",
      "pot               400 non-null float64\n",
      "hemo              400 non-null float64\n",
      "pcv               330 non-null object\n",
      "wc                295 non-null object\n",
      "rc                270 non-null object\n",
      "htn               398 non-null object\n",
      "dm                398 non-null object\n",
      "cad               398 non-null object\n",
      "appet             399 non-null object\n",
      "pe                399 non-null object\n",
      "ane               399 non-null object\n",
      "classification    400 non-null object\n",
      "dtypes: float64(11), int64(1), object(14)\n",
      "memory usage: 81.3+ KB\n",
      "None\n"
     ]
    }
   ],
   "source": [
    "print(KD.info())"
   ]
  },
  {
   "cell_type": "markdown",
   "metadata": {},
   "source": [
    "# Handling Missing Values(Categorical column)"
   ]
  },
  {
   "cell_type": "markdown",
   "metadata": {},
   "source": [
    "Now all the numerical columns missing value are gone we have object type columns are left in which missing values can be replaced by the most frequent word"
   ]
  },
  {
   "cell_type": "code",
   "execution_count": 59,
   "metadata": {},
   "outputs": [
    {
     "name": "stdout",
     "output_type": "stream",
     "text": [
      "normal      201\n",
      "NaN         152\n",
      "abnormal     47\n",
      "Name: rbc, dtype: int64\n"
     ]
    }
   ],
   "source": [
    "print(KD['rbc'].value_counts(dropna=False))"
   ]
  },
  {
   "cell_type": "code",
   "execution_count": 60,
   "metadata": {},
   "outputs": [],
   "source": [
    "KD['rbc']=KD['rbc'].fillna('normal')"
   ]
  },
  {
   "cell_type": "code",
   "execution_count": 61,
   "metadata": {},
   "outputs": [
    {
     "name": "stdout",
     "output_type": "stream",
     "text": [
      "normal      259\n",
      "abnormal     76\n",
      "NaN          65\n",
      "Name: pc, dtype: int64\n"
     ]
    }
   ],
   "source": [
    "print(KD['pc'].value_counts(dropna=False))"
   ]
  },
  {
   "cell_type": "code",
   "execution_count": 62,
   "metadata": {},
   "outputs": [],
   "source": [
    "KD['pc']=KD['pc'].fillna('normal')"
   ]
  },
  {
   "cell_type": "code",
   "execution_count": 63,
   "metadata": {},
   "outputs": [
    {
     "name": "stdout",
     "output_type": "stream",
     "text": [
      "notpresent    354\n",
      "present        42\n",
      "NaN             4\n",
      "Name: pcc, dtype: int64\n"
     ]
    }
   ],
   "source": [
    "print(KD['pcc'].value_counts(dropna=False))"
   ]
  },
  {
   "cell_type": "code",
   "execution_count": 64,
   "metadata": {},
   "outputs": [],
   "source": [
    "KD['pcc']=KD['pcc'].fillna('notpresent')"
   ]
  },
  {
   "cell_type": "code",
   "execution_count": 65,
   "metadata": {},
   "outputs": [
    {
     "name": "stdout",
     "output_type": "stream",
     "text": [
      "notpresent    374\n",
      "present        22\n",
      "NaN             4\n",
      "Name: ba, dtype: int64\n"
     ]
    }
   ],
   "source": [
    "print(KD['ba'].value_counts(dropna=False))"
   ]
  },
  {
   "cell_type": "code",
   "execution_count": 66,
   "metadata": {},
   "outputs": [],
   "source": [
    "KD['ba']=KD['ba'].fillna('notpresent')"
   ]
  },
  {
   "cell_type": "code",
   "execution_count": 67,
   "metadata": {},
   "outputs": [
    {
     "name": "stdout",
     "output_type": "stream",
     "text": [
      "no     251\n",
      "yes    147\n",
      "NaN      2\n",
      "Name: htn, dtype: int64\n"
     ]
    }
   ],
   "source": [
    "print(KD['htn'].value_counts(dropna=False))"
   ]
  },
  {
   "cell_type": "code",
   "execution_count": 68,
   "metadata": {},
   "outputs": [],
   "source": [
    "KD['htn']=KD['htn'].fillna('no')"
   ]
  },
  {
   "cell_type": "code",
   "execution_count": 69,
   "metadata": {},
   "outputs": [
    {
     "name": "stdout",
     "output_type": "stream",
     "text": [
      "no       258\n",
      "yes      134\n",
      "\\tno       3\n",
      "\\tyes      2\n",
      "NaN        2\n",
      " yes       1\n",
      "Name: dm, dtype: int64\n"
     ]
    }
   ],
   "source": [
    "print(KD['dm'].value_counts(dropna=False))"
   ]
  },
  {
   "cell_type": "code",
   "execution_count": 70,
   "metadata": {},
   "outputs": [],
   "source": [
    "KD['dm']=KD['dm'].fillna('no')\n",
    "KD['dm']=KD['dm'].replace('\\tno','no')\n",
    "KD['dm']=KD['dm'].replace('\\tyes','yes')\n",
    "KD['dm']=KD['dm'].replace(' yes','yes')"
   ]
  },
  {
   "cell_type": "code",
   "execution_count": 71,
   "metadata": {},
   "outputs": [
    {
     "name": "stdout",
     "output_type": "stream",
     "text": [
      "no      362\n",
      "yes      34\n",
      "\\tno      2\n",
      "NaN       2\n",
      "Name: cad, dtype: int64\n"
     ]
    }
   ],
   "source": [
    "print(KD['cad'].value_counts(dropna=False))"
   ]
  },
  {
   "cell_type": "code",
   "execution_count": 72,
   "metadata": {},
   "outputs": [],
   "source": [
    "KD['cad']=KD['cad'].fillna('no')\n",
    "KD['cad']=KD['cad'].replace('\\tno','no')"
   ]
  },
  {
   "cell_type": "code",
   "execution_count": 73,
   "metadata": {},
   "outputs": [
    {
     "name": "stdout",
     "output_type": "stream",
     "text": [
      "good    317\n",
      "poor     82\n",
      "NaN       1\n",
      "Name: appet, dtype: int64\n"
     ]
    }
   ],
   "source": [
    "print(KD['appet'].value_counts(dropna=False))"
   ]
  },
  {
   "cell_type": "code",
   "execution_count": 74,
   "metadata": {},
   "outputs": [],
   "source": [
    "KD['appet']=KD['appet'].fillna('good')"
   ]
  },
  {
   "cell_type": "code",
   "execution_count": 75,
   "metadata": {},
   "outputs": [
    {
     "name": "stdout",
     "output_type": "stream",
     "text": [
      "no     323\n",
      "yes     76\n",
      "NaN      1\n",
      "Name: pe, dtype: int64\n"
     ]
    }
   ],
   "source": [
    "print(KD['pe'].value_counts(dropna=False))"
   ]
  },
  {
   "cell_type": "code",
   "execution_count": 76,
   "metadata": {},
   "outputs": [],
   "source": [
    "KD['pe']=KD['pe'].fillna('no')"
   ]
  },
  {
   "cell_type": "code",
   "execution_count": 77,
   "metadata": {},
   "outputs": [
    {
     "name": "stdout",
     "output_type": "stream",
     "text": [
      "no     339\n",
      "yes     60\n",
      "NaN      1\n",
      "Name: ane, dtype: int64\n"
     ]
    }
   ],
   "source": [
    "print(KD['ane'].value_counts(dropna=False))"
   ]
  },
  {
   "cell_type": "code",
   "execution_count": 78,
   "metadata": {},
   "outputs": [],
   "source": [
    "KD['ane']=KD['ane'].fillna('no')"
   ]
  },
  {
   "cell_type": "code",
   "execution_count": 79,
   "metadata": {},
   "outputs": [
    {
     "name": "stdout",
     "output_type": "stream",
     "text": [
      "<class 'pandas.core.frame.DataFrame'>\n",
      "RangeIndex: 400 entries, 0 to 399\n",
      "Data columns (total 26 columns):\n",
      "id                400 non-null int64\n",
      "age               400 non-null float64\n",
      "bp                400 non-null float64\n",
      "sg                400 non-null float64\n",
      "al                400 non-null float64\n",
      "su                400 non-null float64\n",
      "rbc               400 non-null object\n",
      "pc                400 non-null object\n",
      "pcc               400 non-null object\n",
      "ba                400 non-null object\n",
      "bgr               400 non-null float64\n",
      "bu                400 non-null float64\n",
      "sc                400 non-null float64\n",
      "sod               400 non-null float64\n",
      "pot               400 non-null float64\n",
      "hemo              400 non-null float64\n",
      "pcv               330 non-null object\n",
      "wc                295 non-null object\n",
      "rc                270 non-null object\n",
      "htn               400 non-null object\n",
      "dm                400 non-null object\n",
      "cad               400 non-null object\n",
      "appet             400 non-null object\n",
      "pe                400 non-null object\n",
      "ane               400 non-null object\n",
      "classification    400 non-null object\n",
      "dtypes: float64(11), int64(1), object(14)\n",
      "memory usage: 81.3+ KB\n",
      "None\n"
     ]
    }
   ],
   "source": [
    "print(KD.info())"
   ]
  },
  {
   "cell_type": "markdown",
   "metadata": {},
   "source": [
    "# Handling Missing Values(Column with bad data)"
   ]
  },
  {
   "cell_type": "markdown",
   "metadata": {},
   "source": [
    "Now we can see that all the categorical features have all filled values while  some of the columns(pcv,wc,rc) which should be numerical but are of object type that means missing value is in some different format(Bad data). We will have to convert bad data into Nan then replace all Nan with mean value"
   ]
  },
  {
   "cell_type": "code",
   "execution_count": 80,
   "metadata": {},
   "outputs": [
    {
     "name": "stdout",
     "output_type": "stream",
     "text": [
      "NaN     70\n",
      "52      21\n",
      "41      21\n",
      "44      19\n",
      "48      19\n",
      "40      16\n",
      "43      14\n",
      "45      13\n",
      "42      13\n",
      "36      12\n",
      "28      12\n",
      "50      12\n",
      "33      12\n",
      "32      12\n",
      "37      11\n",
      "34      11\n",
      "46       9\n",
      "35       9\n",
      "29       9\n",
      "30       9\n",
      "31       8\n",
      "24       7\n",
      "39       7\n",
      "26       6\n",
      "38       5\n",
      "49       4\n",
      "54       4\n",
      "47       4\n",
      "53       4\n",
      "51       4\n",
      "25       3\n",
      "27       3\n",
      "22       3\n",
      "23       2\n",
      "19       2\n",
      "14       1\n",
      "21       1\n",
      "15       1\n",
      "16       1\n",
      "20       1\n",
      "\\t?      1\n",
      "\\t43     1\n",
      "9        1\n",
      "17       1\n",
      "18       1\n",
      "Name: pcv, dtype: int64\n"
     ]
    }
   ],
   "source": [
    "print(KD['pcv'].value_counts(dropna=False))"
   ]
  },
  {
   "cell_type": "code",
   "execution_count": 81,
   "metadata": {},
   "outputs": [],
   "source": [
    "KD['pcv']=pd.to_numeric(KD['pcv'],errors='coerce')#convert bad data(\\t43,\\t?)into Nan and convert column in numerical\n",
    "KD['pcv']=KD['pcv'].fillna(np.mean(KD['pcv']))\n"
   ]
  },
  {
   "cell_type": "code",
   "execution_count": 82,
   "metadata": {},
   "outputs": [
    {
     "name": "stdout",
     "output_type": "stream",
     "text": [
      "NaN       105\n",
      "9800       11\n",
      "6700       10\n",
      "9200        9\n",
      "7200        9\n",
      "9600        9\n",
      "6900        8\n",
      "5800        8\n",
      "11000       8\n",
      "7000        7\n",
      "9400        7\n",
      "7800        7\n",
      "9100        7\n",
      "10500       6\n",
      "6300        6\n",
      "10700       6\n",
      "4300        6\n",
      "7500        5\n",
      "8600        5\n",
      "8100        5\n",
      "5000        5\n",
      "10200       5\n",
      "7900        5\n",
      "5600        5\n",
      "8300        5\n",
      "9500        5\n",
      "4700        4\n",
      "5500        4\n",
      "6200        4\n",
      "6800        4\n",
      "         ... \n",
      "12200       1\n",
      "\\t8400      1\n",
      "11800       1\n",
      "16300       1\n",
      "10900       1\n",
      "11900       1\n",
      "9700        1\n",
      "15700       1\n",
      "11300       1\n",
      "11500       1\n",
      "19100       1\n",
      "12300       1\n",
      "10800       1\n",
      "26400       1\n",
      "12100       1\n",
      "13600       1\n",
      "16700       1\n",
      "2600        1\n",
      "4900        1\n",
      "12500       1\n",
      "4100        1\n",
      "\\t6200      1\n",
      "14900       1\n",
      "2200        1\n",
      "5100        1\n",
      "11200       1\n",
      "5900        1\n",
      "9900        1\n",
      "21600       1\n",
      "5200        1\n",
      "Name: wc, Length: 93, dtype: int64\n"
     ]
    }
   ],
   "source": [
    "print(KD['wc'].value_counts(dropna=False))"
   ]
  },
  {
   "cell_type": "code",
   "execution_count": 83,
   "metadata": {},
   "outputs": [],
   "source": [
    "KD['wc']=pd.to_numeric(KD['wc'],errors='coerce')#convert bad data(\\t8400,\\t?)into Nan and convert column in numerical\n",
    "KD['wc']=KD['wc'].fillna(np.mean(KD['wc']))"
   ]
  },
  {
   "cell_type": "code",
   "execution_count": 84,
   "metadata": {},
   "outputs": [
    {
     "name": "stdout",
     "output_type": "stream",
     "text": [
      "NaN    130\n",
      "5.2     18\n",
      "4.5     16\n",
      "4.9     14\n",
      "4.7     11\n",
      "4.8     10\n",
      "3.9     10\n",
      "3.4      9\n",
      "4.6      9\n",
      "6.1      8\n",
      "5.9      8\n",
      "3.7      8\n",
      "5.0      8\n",
      "5.5      8\n",
      "5.3      7\n",
      "5.4      7\n",
      "3.8      7\n",
      "5.8      7\n",
      "4.3      6\n",
      "4.2      6\n",
      "5.6      6\n",
      "6.5      5\n",
      "4.4      5\n",
      "5.7      5\n",
      "3.2      5\n",
      "4.1      5\n",
      "6.2      5\n",
      "5.1      5\n",
      "6.4      5\n",
      "6.3      4\n",
      "6.0      4\n",
      "3.6      4\n",
      "4.0      3\n",
      "3.5      3\n",
      "3.3      3\n",
      "4        3\n",
      "2.9      2\n",
      "2.5      2\n",
      "2.7      2\n",
      "3.1      2\n",
      "2.1      2\n",
      "3.0      2\n",
      "5        2\n",
      "2.8      2\n",
      "2.6      2\n",
      "\\t?      1\n",
      "2.4      1\n",
      "3        1\n",
      "2.3      1\n",
      "8.0      1\n",
      "Name: rc, dtype: int64\n"
     ]
    }
   ],
   "source": [
    "print(KD['rc'].value_counts(dropna=False))"
   ]
  },
  {
   "cell_type": "code",
   "execution_count": 85,
   "metadata": {},
   "outputs": [],
   "source": [
    "KD['rc']=pd.to_numeric(KD['rc'],errors='coerce')#convert bad data(\\t?)into Nan and convert column in numerical\n",
    "KD['rc']=KD['rc'].fillna(np.mean(KD['rc']))"
   ]
  },
  {
   "cell_type": "code",
   "execution_count": 86,
   "metadata": {},
   "outputs": [
    {
     "name": "stdout",
     "output_type": "stream",
     "text": [
      "<class 'pandas.core.frame.DataFrame'>\n",
      "RangeIndex: 400 entries, 0 to 399\n",
      "Data columns (total 26 columns):\n",
      "id                400 non-null int64\n",
      "age               400 non-null float64\n",
      "bp                400 non-null float64\n",
      "sg                400 non-null float64\n",
      "al                400 non-null float64\n",
      "su                400 non-null float64\n",
      "rbc               400 non-null object\n",
      "pc                400 non-null object\n",
      "pcc               400 non-null object\n",
      "ba                400 non-null object\n",
      "bgr               400 non-null float64\n",
      "bu                400 non-null float64\n",
      "sc                400 non-null float64\n",
      "sod               400 non-null float64\n",
      "pot               400 non-null float64\n",
      "hemo              400 non-null float64\n",
      "pcv               400 non-null float64\n",
      "wc                400 non-null float64\n",
      "rc                400 non-null float64\n",
      "htn               400 non-null object\n",
      "dm                400 non-null object\n",
      "cad               400 non-null object\n",
      "appet             400 non-null object\n",
      "pe                400 non-null object\n",
      "ane               400 non-null object\n",
      "classification    400 non-null object\n",
      "dtypes: float64(14), int64(1), object(11)\n",
      "memory usage: 81.3+ KB\n",
      "None\n"
     ]
    }
   ],
   "source": [
    "print(KD.info())"
   ]
  },
  {
   "cell_type": "markdown",
   "metadata": {},
   "source": [
    "Now our dataset is ready all the columns are filled . All missing values and bad data are removed"
   ]
  },
  {
   "cell_type": "markdown",
   "metadata": {},
   "source": [
    "# Separating feature variable and target variable"
   ]
  },
  {
   "cell_type": "code",
   "execution_count": 88,
   "metadata": {},
   "outputs": [],
   "source": [
    "X=KD.drop('classification',axis='columns')\n",
    "Y=KD['classification']"
   ]
  },
  {
   "cell_type": "markdown",
   "metadata": {},
   "source": [
    "# Handling categorical columns in feature variable"
   ]
  },
  {
   "cell_type": "markdown",
   "metadata": {},
   "source": [
    "Many machine learning model not accept categorical  column in feature variable so we will convert categorical column in feature variable in numerical variable by creating dummy variables"
   ]
  },
  {
   "cell_type": "code",
   "execution_count": 89,
   "metadata": {},
   "outputs": [],
   "source": [
    "X=pd.get_dummies(X,drop_first=True)"
   ]
  },
  {
   "cell_type": "code",
   "execution_count": 90,
   "metadata": {},
   "outputs": [
    {
     "name": "stdout",
     "output_type": "stream",
     "text": [
      "<class 'pandas.core.frame.DataFrame'>\n",
      "RangeIndex: 400 entries, 0 to 399\n",
      "Data columns (total 25 columns):\n",
      "id             400 non-null int64\n",
      "age            400 non-null float64\n",
      "bp             400 non-null float64\n",
      "sg             400 non-null float64\n",
      "al             400 non-null float64\n",
      "su             400 non-null float64\n",
      "bgr            400 non-null float64\n",
      "bu             400 non-null float64\n",
      "sc             400 non-null float64\n",
      "sod            400 non-null float64\n",
      "pot            400 non-null float64\n",
      "hemo           400 non-null float64\n",
      "pcv            400 non-null float64\n",
      "wc             400 non-null float64\n",
      "rc             400 non-null float64\n",
      "rbc_normal     400 non-null uint8\n",
      "pc_normal      400 non-null uint8\n",
      "pcc_present    400 non-null uint8\n",
      "ba_present     400 non-null uint8\n",
      "htn_yes        400 non-null uint8\n",
      "dm_yes         400 non-null uint8\n",
      "cad_yes        400 non-null uint8\n",
      "appet_poor     400 non-null uint8\n",
      "pe_yes         400 non-null uint8\n",
      "ane_yes        400 non-null uint8\n",
      "dtypes: float64(14), int64(1), uint8(10)\n",
      "memory usage: 50.9 KB\n",
      "None\n"
     ]
    }
   ],
   "source": [
    "print(X.info())"
   ]
  },
  {
   "cell_type": "markdown",
   "metadata": {},
   "source": [
    "In feature variable all the columns now have neither missing value nor of categorical type . Yeee It is ready for modelling."
   ]
  },
  {
   "cell_type": "markdown",
   "metadata": {},
   "source": [
    "# Handling missing value in target variable"
   ]
  },
  {
   "cell_type": "code",
   "execution_count": 91,
   "metadata": {},
   "outputs": [
    {
     "name": "stdout",
     "output_type": "stream",
     "text": [
      "ckd       248\n",
      "notckd    150\n",
      "ckd\\t       2\n",
      "Name: classification, dtype: int64\n"
     ]
    }
   ],
   "source": [
    "print(Y.value_counts(dropna=False))"
   ]
  },
  {
   "cell_type": "code",
   "execution_count": 92,
   "metadata": {},
   "outputs": [],
   "source": [
    "Y=Y.replace('ckd\\t','ckd')"
   ]
  },
  {
   "cell_type": "markdown",
   "metadata": {},
   "source": [
    "Now everything(target variable and feature variable) are ready for modelling."
   ]
  },
  {
   "cell_type": "markdown",
   "metadata": {},
   "source": [
    "# Random Forest Classifier"
   ]
  },
  {
   "cell_type": "code",
   "execution_count": 101,
   "metadata": {},
   "outputs": [
    {
     "name": "stdout",
     "output_type": "stream",
     "text": [
      "             precision    recall  f1-score   support\n",
      "\n",
      "        ckd       1.00      1.00      1.00       205\n",
      "     notckd       0.99      1.00      1.00       115\n",
      "\n",
      "avg / total       1.00      1.00      1.00       320\n",
      "\n",
      "Accuracy of the given model is : 0.996875\n"
     ]
    }
   ],
   "source": [
    "from sklearn.ensemble import RandomForestClassifier\n",
    "from sklearn.metrics import accuracy_score\n",
    "from sklearn.model_selection import train_test_split\n",
    "from sklearn.metrics import classification_report\n",
    "X_train,X_test,y_train,y_test=train_test_split(X,Y,test_size=0.8,random_state=42)\n",
    "rf=RandomForestClassifier(n_estimators=50,min_samples_leaf=0.2,random_state=42)\n",
    "rf.fit(X_train,y_train)\n",
    "pred=rf.predict(X_test)\n",
    "print(classification_report(y_test,pred))\n",
    "print(\"Accuracy of the given model is : {}\".format(accuracy_score(y_test,pred)))"
   ]
  },
  {
   "cell_type": "markdown",
   "metadata": {},
   "source": [
    "Random Forest Classifier with 50 number of tree having min_samples_leaf=0.2 has the accuracy 0f 99.6% precision 100% and recall is equal to 100% which is\n",
    "GREAT!!!!!!!!!!!!!!!!!!!!!!!!!!!!!!!!!!!!!!!!!!!!!"
   ]
  },
  {
   "cell_type": "code",
   "execution_count": null,
   "metadata": {},
   "outputs": [],
   "source": []
  }
 ],
 "metadata": {
  "kernelspec": {
   "display_name": "Python 3",
   "language": "python",
   "name": "python3"
  },
  "language_info": {
   "codemirror_mode": {
    "name": "ipython",
    "version": 3
   },
   "file_extension": ".py",
   "mimetype": "text/x-python",
   "name": "python",
   "nbconvert_exporter": "python",
   "pygments_lexer": "ipython3",
   "version": "3.6.5"
  }
 },
 "nbformat": 4,
 "nbformat_minor": 2
}
